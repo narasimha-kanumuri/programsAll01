{
 "cells": [
  {
   "cell_type": "code",
   "execution_count": 21,
   "metadata": {},
   "outputs": [
    {
     "name": "stdout",
     "output_type": "stream",
     "text": [
      "Hello\\nworld\n"
     ]
    }
   ],
   "source": [
    "s = r'Hello\\nworld'\n",
    "print(s)"
   ]
  },
  {
   "cell_type": "code",
   "execution_count": 19,
   "metadata": {},
   "outputs": [
    {
     "name": "stdout",
     "output_type": "stream",
     "text": [
      "{1, 42, 20, 9, 10, 91}\n",
      "{10, 20, 30}\n"
     ]
    }
   ],
   "source": [
    "\n",
    "s = {10,20,1,91,9,42,10}\n",
    "print(s)\n",
    "\n",
    "l = [10,10,20,10,30,10,20,10,30,10]\n",
    "print(set(l))\n",
    "\n",
    "empty = set()"
   ]
  },
  {
   "cell_type": "markdown",
   "metadata": {
    "slideshow": {
     "slide_type": "fragment"
    }
   },
   "source": [
    "Dictionary"
   ]
  },
  {
   "cell_type": "code",
   "execution_count": null,
   "metadata": {},
   "outputs": [],
   "source": []
  },
  {
   "cell_type": "code",
   "execution_count": 11,
   "metadata": {},
   "outputs": [
    {
     "name": "stdout",
     "output_type": "stream",
     "text": [
      "{'circle1': {'radius': 10, 'circumference': 62.8, 'area': 314}, 'circle2': {'radius': 20, 'circumference': 125.6, 'area': 1248}}\n",
      "dict_keys(['circle1', 'circle2']) ['circle1', 'circle2']\n",
      "dict_values([10, 62.8, 314])\n"
     ]
    }
   ],
   "source": [
    "circles = {\n",
    "    'circle1' :\n",
    "        {\n",
    "            'radius': 10,\n",
    "            'circumference' : 62.8,\n",
    "            'area' : 314\n",
    "            },\n",
    "    'circle2':\n",
    "        {\n",
    "            'radius': 20,\n",
    "            'circumference' : 125.6,\n",
    "            'area' : 1248    \n",
    "            }\n",
    "        }\n",
    "\n",
    "print(circles)\n",
    "print(circles.keys(), list(circles))\n",
    "print(circles.get('circle1').values())"
   ]
  }
 ],
 "metadata": {
  "kernelspec": {
   "display_name": "Python 3.11.0 64-bit",
   "language": "python",
   "name": "python3"
  },
  "language_info": {
   "codemirror_mode": {
    "name": "ipython",
    "version": 3
   },
   "file_extension": ".py",
   "mimetype": "text/x-python",
   "name": "python",
   "nbconvert_exporter": "python",
   "pygments_lexer": "ipython3",
   "version": "3.11.0"
  },
  "orig_nbformat": 4,
  "vscode": {
   "interpreter": {
    "hash": "28853306de9e8ee6c9c12f97879ab0b786735716cbedba660d3738681029608f"
   }
  }
 },
 "nbformat": 4,
 "nbformat_minor": 2
}
